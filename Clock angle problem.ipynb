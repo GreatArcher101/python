{
 "cells": [
  {
   "cell_type": "markdown",
   "id": "49711c1e-7e2b-4cd8-84e8-c82e0575dbb3",
   "metadata": {},
   "source": [
    "###  This problem is know as Clock angle problem where we need to find angle between hands of an analog clock at a given time."
   ]
  },
  {
   "cell_type": "markdown",
   "id": "389a3b29-0ed2-4be3-b4d5-ca720c673e1e",
   "metadata": {},
   "source": [
    "Examples:\n",
    "Input: 12:30, h = 12 , m = 30, Output: 165 degree\n",
    "Input:  3:30, h = 3, m = 30 Output: 75 degree"
   ]
  },
  {
   "cell_type": "code",
   "execution_count": null,
   "id": "a4dac1dd-74c9-41cc-b882-da0f49ae2076",
   "metadata": {},
   "outputs": [],
   "source": [
    "# here x is hour & y is minute\n",
    "\n",
    "def degree(x,y):\n",
    "    \n",
    "    minute=y \n",
    "    hour = (x*5) + (minute*0.08)\n",
    "    dis = abs(minute-hour)\n",
    "    degree = dis*6\n",
    "    if degree>180:\n",
    "        degree = 360-degree\n",
    "    return int(degree)\n",
    "    "
   ]
  }
 ],
 "metadata": {
  "kernelspec": {
   "display_name": "Python 3 (ipykernel)",
   "language": "python",
   "name": "python3"
  },
  "language_info": {
   "codemirror_mode": {
    "name": "ipython",
    "version": 3
   },
   "file_extension": ".py",
   "mimetype": "text/x-python",
   "name": "python",
   "nbconvert_exporter": "python",
   "pygments_lexer": "ipython3",
   "version": "3.10.8"
  }
 },
 "nbformat": 4,
 "nbformat_minor": 5
}
