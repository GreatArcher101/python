{
 "cells": [
  {
   "cell_type": "code",
   "execution_count": 29,
   "id": "3a36941b-a622-4efd-bb2a-ce25db435796",
   "metadata": {},
   "outputs": [
    {
     "name": "stdin",
     "output_type": "stream",
     "text": [
      "MRP=  101\n"
     ]
    },
    {
     "name": "stdout",
     "output_type": "stream",
     "text": [
      "yes\n"
     ]
    }
   ],
   "source": [
    "total_price=int(input(\"MRP= \"))\n",
    "if  total_price>100 :\n",
    "    print(\"yes\")\n",
    "else:\n",
    "    print(\"no\")"
   ]
  },
  {
   "cell_type": "code",
   "execution_count": 48,
   "id": "c516ae21-5129-4c7b-8410-fb221fa28782",
   "metadata": {},
   "outputs": [
    {
     "name": "stdin",
     "output_type": "stream",
     "text": [
      "mpr= 90\n"
     ]
    },
    {
     "name": "stdout",
     "output_type": "stream",
     "text": [
      "dis= 9\n",
      "net amt= 81\n"
     ]
    }
   ],
   "source": [
    "mrp=int(input(\"mpr=\"))\n",
    "if mrp>100:\n",
    "    dis=mrp*0.4\n",
    "    print(\"dis= \"+str(int(dis)))\n",
    "    print(\"net amt= \"+ str(int(mrp-dis)))\n",
    "else :\n",
    "        dis=mrp*0.1\n",
    "        print(\"dis= \"+str(int(dis)))\n",
    "        print(\"net amt= \"+ str(int(mrp-dis)))"
   ]
  },
  {
   "cell_type": "code",
   "execution_count": 1,
   "id": "b4b90c4c-0895-4c3f-b3ac-691772e4b338",
   "metadata": {},
   "outputs": [
    {
     "name": "stdin",
     "output_type": "stream",
     "text": [
      "sp bol=  90\n"
     ]
    },
    {
     "name": "stdout",
     "output_type": "stream",
     "text": [
      "dis 9\n",
      "dede= 81.0\n"
     ]
    }
   ],
   "source": [
    "sp=int(input(\"sp bol= \"))\n",
    "if sp<100:\n",
    "    dis=sp-((sp*90)/100)\n",
    "    print(\"dis \"+str(int(dis)))\n",
    "elif sp>500:\n",
    "    dis=sp-((sp*80)/100)\n",
    "    print(\"dis \"+str(int(dis)))\n",
    "else:\n",
    "    dis=sp-((sp*85)/100)\n",
    "    print(\"dis \"+str(int(dis)))\n",
    "print(\"dede= \"+str(sp-dis))   "
   ]
  },
  {
   "cell_type": "code",
   "execution_count": null,
   "id": "5ed232eb-5101-44ba-a2eb-0fdf0036219b",
   "metadata": {},
   "outputs": [],
   "source": [
    "\n",
    "\n",
    "\n"
   ]
  }
 ],
 "metadata": {
  "kernelspec": {
   "display_name": "Python 3 (ipykernel)",
   "language": "python",
   "name": "python3"
  },
  "language_info": {
   "codemirror_mode": {
    "name": "ipython",
    "version": 3
   },
   "file_extension": ".py",
   "mimetype": "text/x-python",
   "name": "python",
   "nbconvert_exporter": "python",
   "pygments_lexer": "ipython3",
   "version": "3.10.8"
  }
 },
 "nbformat": 4,
 "nbformat_minor": 5
}
