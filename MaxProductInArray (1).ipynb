{
 "cells": [
  {
   "cell_type": "code",
   "execution_count": 1,
   "id": "b673d4fa-bbbf-4a55-8445-9b8019cdb721",
   "metadata": {},
   "outputs": [],
   "source": [
    "# Given an array of integers, find the pair of adjacent elements \n",
    "# that has the largest product and return that product.\n",
    "\n",
    "# Approach 1\n",
    "\n",
    "def max_product(array):\n",
    "    b =len(array)\n",
    "    if b<2:\n",
    "        print(\"can't check\")\n",
    "    maxm = -9999999\n",
    "    \n",
    "    for i in range(b-1):\n",
    "        for j in range(1,b):\n",
    "            pro= array[i]*array[j]\n",
    "            \n",
    "            if pro>maxm:\n",
    "                maxm = pro\n",
    "    return maxm"
   ]
  },
  {
   "cell_type": "code",
   "execution_count": null,
   "id": "78a635f9-8665-41f7-98c5-8ee5afb8a63b",
   "metadata": {},
   "outputs": [],
   "source": [
    "# Approach 2\n",
    "\n",
    "def check(array):\n",
    "    if len(array)<2:\n",
    "        print(\"Can't check\")\n",
    "    \n",
    "    array.sort()\n",
    "    size = len(array)\n",
    "    last = array[size-1]\n",
    "    second_last = array[size-2]\n",
    "    return (last * second_last)"
   ]
  }
 ],
 "metadata": {
  "kernelspec": {
   "display_name": "Python 3 (ipykernel)",
   "language": "python",
   "name": "python3"
  },
  "language_info": {
   "codemirror_mode": {
    "name": "ipython",
    "version": 3
   },
   "file_extension": ".py",
   "mimetype": "text/x-python",
   "name": "python",
   "nbconvert_exporter": "python",
   "pygments_lexer": "ipython3",
   "version": "3.10.8"
  }
 },
 "nbformat": 4,
 "nbformat_minor": 5
}
